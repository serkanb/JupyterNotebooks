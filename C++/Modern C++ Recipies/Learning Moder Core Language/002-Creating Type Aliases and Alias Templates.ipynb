{
 "cells": [
  {
   "cell_type": "markdown",
   "metadata": {},
   "source": [
    "# 002-Creating Type Aliases and Alias Templates"
   ]
  },
  {
   "cell_type": "markdown",
   "metadata": {},
   "source": [
    "## How to do it"
   ]
  },
  {
   "cell_type": "markdown",
   "metadata": {},
   "source": [
    "* Create type aliases with the form using identifier = type-id as in the following examples:"
   ]
  },
  {
   "cell_type": "markdown",
   "metadata": {},
   "source": [
    "```C++\n",
    "using byte    = unsigned char; \n",
    "using pbyte   = unsigned char *; \n",
    "using array_t = int[10]; \n",
    "using fn      = void(byte, double); \n",
    "\n",
    "void func(byte b, double d) { /*...*/ } \n",
    "\n",
    "byte b {42}; \n",
    "pbyte pb = new byte[10] {0}; \n",
    "array_t a{0,1,2,3,4,5,6,7,8,9}; \n",
    "fn* f = func;\n",
    "```"
   ]
  },
  {
   "cell_type": "markdown",
   "metadata": {},
   "source": [
    "* Create **alias templates** with the form template<template-params-list> identifier = type-id as in the following examples:"
   ]
  },
  {
   "cell_type": "markdown",
   "metadata": {},
   "source": [
    "```C++\n",
    "template <class T> \n",
    "class custom_allocator { /* ... */}; \n",
    "\n",
    "template <typename T> \n",
    "using vec_t = std::vector<T, custom_allocator<T>>; \n",
    "\n",
    "vec_t<int>           vi; \n",
    "vec_t<std::string>   vs;\n",
    "````"
   ]
  },
  {
   "cell_type": "markdown",
   "metadata": {},
   "source": [
    "## How it works"
   ]
  },
  {
   "cell_type": "markdown",
   "metadata": {},
   "source": [
    "A type alias declaration is equivalent to a typedef declaration. An alias-declaration is, however, more readable and more clear about the actual type that is aliased when it comes to creating aliases for array types and function pointer types."
   ]
  },
  {
   "cell_type": "markdown",
   "metadata": {},
   "source": [
    "```C++\n",
    "typedef int             array_t[10];\n",
    "typedef void(*fn)(byte, double);\n",
    "\n",
    "using array_t = int[10]; \n",
    "using fn      = void(byte, double); \n",
    "````"
   ]
  },
  {
   "cell_type": "code",
   "execution_count": null,
   "metadata": {},
   "outputs": [],
   "source": []
  }
 ],
 "metadata": {
  "kernelspec": {
   "display_name": "C++14",
   "language": "C++14",
   "name": "xcpp14"
  },
  "language_info": {
   "codemirror_mode": "text/x-c++src",
   "file_extension": ".cpp",
   "mimetype": "text/x-c++src",
   "name": "c++",
   "version": "14"
  }
 },
 "nbformat": 4,
 "nbformat_minor": 4
}
