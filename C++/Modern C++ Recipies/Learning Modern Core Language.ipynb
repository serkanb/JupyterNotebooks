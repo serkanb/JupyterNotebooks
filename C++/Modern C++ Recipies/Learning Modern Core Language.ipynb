{
 "cells": [
  {
   "cell_type": "markdown",
   "metadata": {},
   "source": [
    "# 001-Using Auto Whenever Possible\n",
    "## How to do it..."
   ]
  },
  {
   "cell_type": "markdown",
   "metadata": {},
   "source": [
    "* To declare local variables with the form auto name = expression when you do not want to commit to a specific type:"
   ]
  },
  {
   "cell_type": "code",
   "execution_count": 1,
   "metadata": {},
   "outputs": [
    {
     "name": "stdout",
     "output_type": "stream",
     "text": [
      "text\n"
     ]
    }
   ],
   "source": [
    "#include <iostream>\n",
    "\n",
    "auto i = 42;          // int \n",
    "auto d = 42.5;        // double \n",
    "auto s = \"text\";      // char const * \n",
    "auto v = { 1, 2, 3 }; // std::initializer_list<int>\n",
    "std::cout << s << std::endl;"
   ]
  },
  {
   "cell_type": "markdown",
   "metadata": {},
   "source": [
    "* To declare local variables with the auto name = type-id { expression } form when you need to commit to a specific type:"
   ]
  },
  {
   "cell_type": "code",
   "execution_count": 7,
   "metadata": {},
   "outputs": [
    {
     "name": "stdout",
     "output_type": "stream",
     "text": [
      "42\n"
     ]
    }
   ],
   "source": [
    "auto b  = new char[10]{ 0 };            // char*\n",
    "auto s1 = std::string {\"text\"};         // std::string\n",
    "auto v1 = std::vector<int> { 1, 2, 3 }; // std::vector<int>\n",
    "auto p  = std::make_shared<int>(42);    // std::shared_ptr<int>\n",
    "std::cout << *p << std::endl;"
   ]
  },
  {
   "cell_type": "markdown",
   "metadata": {},
   "source": [
    "* To declare named lambda functions, with the form auto name = lambda-expression, unless the lambda needs to be passed or return to a function:"
   ]
  },
  {
   "cell_type": "code",
   "execution_count": 11,
   "metadata": {},
   "outputs": [
    {
     "name": "stdout",
     "output_type": "stream",
     "text": [
      "X\n"
     ]
    }
   ],
   "source": [
    "auto upper = [](char const c) {return toupper(c); };\n",
    "std::cout << char(upper('x')) << std::endl;"
   ]
  },
  {
   "cell_type": "markdown",
   "metadata": {},
   "source": [
    "* To declare lambda parameters and return values:"
   ]
  },
  {
   "cell_type": "code",
   "execution_count": 12,
   "metadata": {},
   "outputs": [
    {
     "name": "stdout",
     "output_type": "stream",
     "text": [
      "4.2\n"
     ]
    }
   ],
   "source": [
    "auto add = [](auto const a, auto const b) {return a + b;};\n",
    "std::cout << add(3, 1.2) << std::endl;"
   ]
  },
  {
   "cell_type": "markdown",
   "metadata": {},
   "source": [
    "* To declare function return type when you don't want to commit to a specific type:"
   ]
  },
  {
   "cell_type": "code",
   "execution_count": 16,
   "metadata": {},
   "outputs": [],
   "source": [
    "template <typename F, typename T> \n",
    "auto apply(F&& f, T value) \n",
    "{ \n",
    "    return f(value);\n",
    "}\n",
    "\n"
   ]
  },
  {
   "cell_type": "markdown",
   "metadata": {},
   "source": [
    "## How it works..."
   ]
  },
  {
   "cell_type": "markdown",
   "metadata": {},
   "source": [
    "The auto specifier is basically a placeholder for an actual type. When using auto, the compiler deduces the actual type from the following instances:\n",
    "\n",
    "From the **type of the expression used to initialize a variable**, when auto is used to declare variables.\n",
    "\n",
    "From the trailing **return type or the type of the return expression of a function**, when auto is used as a placeholder for the return type of a function."
   ]
  },
  {
   "cell_type": "markdown",
   "metadata": {},
   "source": [
    "#### Benefits of using auto specifier"
   ]
  },
  {
   "cell_type": "markdown",
   "metadata": {},
   "source": [
    "* It's not possible to leave a variable unitialized\n",
    "* Using auto ensures that you always use the correct type and that implicit converion will not occur.\n",
    "\n",
    "  For example: Consider the following example where we retrieve the size of a vector to a local variable. In the first case, the type of the variable is int, though the size() method returns size_t. That means an implicit conversion from size_t to int will occur. However, using auto for the type will deduce the correct type, that is, size_t:"
   ]
  },
  {
   "cell_type": "code",
   "execution_count": 19,
   "metadata": {},
   "outputs": [
    {
     "name": "stderr",
     "output_type": "stream",
     "text": [
      "input_line_27:6:19: error: non-constant-expression cannot be narrowed from type 'std::vector::size_type' (aka 'unsigned long') to 'int' in initializer list [-Wc++11-narrowing]\n",
      "auto size3 = int{ v.size() };  // error, narrowing conversion\n",
      "                  ^~~~~~~~\n",
      "input_line_27:6:19: note: insert an explicit cast to silence this issue\n",
      "auto size3 = int{ v.size() };  // error, narrowing conversion\n",
      "                  ^~~~~~~~\n",
      "                  static_cast<int>( )\n"
     ]
    },
    {
     "ename": "Interpreter Error",
     "evalue": "",
     "output_type": "error",
     "traceback": [
      "Interpreter Error: "
     ]
    }
   ],
   "source": [
    "auto v = std::vector<int>{ 1, 2, 3 }; \n",
    "int size1 = v.size();       \n",
    "// implicit conversion, possible loss of data \n",
    "auto size2 = v.size(); \n",
    "auto size3 = int{ v.size() };  // error, narrowing conversion"
   ]
  },
  {
   "cell_type": "markdown",
   "metadata": {},
   "source": [
    "* Using auto promotes good object-oriented practices, such as preferring interfaces over implementations. **The lesser the number of types specified the more generic the code is and more open to future changes**, which is a fundamental principle of object-oriented programming."
   ]
  },
  {
   "cell_type": "code",
   "execution_count": null,
   "metadata": {},
   "outputs": [],
   "source": []
  }
 ],
 "metadata": {
  "kernelspec": {
   "display_name": "C++14",
   "language": "C++14",
   "name": "xcpp14"
  },
  "language_info": {
   "codemirror_mode": "text/x-c++src",
   "file_extension": ".cpp",
   "mimetype": "text/x-c++src",
   "name": "c++",
   "version": "14"
  }
 },
 "nbformat": 4,
 "nbformat_minor": 4
}
