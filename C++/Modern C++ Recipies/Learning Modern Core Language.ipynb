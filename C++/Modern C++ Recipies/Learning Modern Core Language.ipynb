{
 "cells": [
  {
   "cell_type": "markdown",
   "metadata": {},
   "source": [
    "# 001-Using Auto Whenever Possible"
   ]
  },
  {
   "cell_type": "markdown",
   "metadata": {},
   "source": [
    "* To declare local variables with the form auto name = expression when you do not want to commit to a specific type:"
   ]
  },
  {
   "cell_type": "code",
   "execution_count": 1,
   "metadata": {},
   "outputs": [
    {
     "name": "stdout",
     "output_type": "stream",
     "text": [
      "text\n"
     ]
    }
   ],
   "source": [
    "#include <iostream>\n",
    "\n",
    "auto i = 42;          // int \n",
    "auto d = 42.5;        // double \n",
    "auto s = \"text\";      // char const * \n",
    "auto v = { 1, 2, 3 }; // std::initializer_list<int>\n",
    "std::cout << s << std::endl;"
   ]
  },
  {
   "cell_type": "markdown",
   "metadata": {},
   "source": [
    "* To declare local variables with the auto name = type-id { expression } form when you need to commit to a specific type:"
   ]
  },
  {
   "cell_type": "code",
   "execution_count": 7,
   "metadata": {},
   "outputs": [
    {
     "name": "stdout",
     "output_type": "stream",
     "text": [
      "42\n"
     ]
    }
   ],
   "source": [
    "auto b  = new char[10]{ 0 };            // char*\n",
    "auto s1 = std::string {\"text\"};         // std::string\n",
    "auto v1 = std::vector<int> { 1, 2, 3 }; // std::vector<int>\n",
    "auto p  = std::make_shared<int>(42);    // std::shared_ptr<int>\n",
    "std::cout << *p << std::endl;"
   ]
  },
  {
   "cell_type": "markdown",
   "metadata": {},
   "source": [
    "* To declare named lambda functions, with the form auto name = lambda-expression, unless the lambda needs to be passed or return to a function:"
   ]
  },
  {
   "cell_type": "code",
   "execution_count": 11,
   "metadata": {},
   "outputs": [
    {
     "name": "stdout",
     "output_type": "stream",
     "text": [
      "X\n"
     ]
    }
   ],
   "source": [
    "auto upper = [](char const c) {return toupper(c); };\n",
    "std::cout << char(upper('x')) << std::endl;"
   ]
  },
  {
   "cell_type": "markdown",
   "metadata": {},
   "source": [
    "* To declare lambda parameters and return values:"
   ]
  },
  {
   "cell_type": "code",
   "execution_count": 12,
   "metadata": {},
   "outputs": [
    {
     "name": "stdout",
     "output_type": "stream",
     "text": [
      "4.2\n"
     ]
    }
   ],
   "source": [
    "auto add = [](auto const a, auto const b) {return a + b;};\n",
    "std::cout << add(3, 1.2) << std::endl;"
   ]
  },
  {
   "cell_type": "code",
   "execution_count": null,
   "metadata": {},
   "outputs": [],
   "source": []
  }
 ],
 "metadata": {
  "kernelspec": {
   "display_name": "C++14",
   "language": "C++14",
   "name": "xcpp14"
  },
  "language_info": {
   "codemirror_mode": "text/x-c++src",
   "file_extension": ".cpp",
   "mimetype": "text/x-c++src",
   "name": "c++",
   "version": "14"
  }
 },
 "nbformat": 4,
 "nbformat_minor": 4
}
